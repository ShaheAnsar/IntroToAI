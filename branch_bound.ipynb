{
 "cells": [
  {
   "cell_type": "markdown",
   "metadata": {},
   "source": [
    "##### Let's do the branch and bound problem"
   ]
  },
  {
   "cell_type": "code",
   "execution_count": 82,
   "metadata": {},
   "outputs": [],
   "source": [
    "from numpy import matmul\n",
    "from itertools import product\n",
    "from math import sqrt, floor"
   ]
  },
  {
   "cell_type": "code",
   "execution_count": 83,
   "metadata": {},
   "outputs": [],
   "source": [
    "constraint_value = 68644\n",
    "const_coeff = [9, 8, 7, 7, 6, 6, 5, 2, 1, 1]\n",
    "org_coeff = [104, 128, 135, 139, 150, 153, 162, 168, 195, 198]"
   ]
  },
  {
   "cell_type": "markdown",
   "metadata": {},
   "source": [
    "If we set every other value (say Xj) to 0, how large does Xi (i != j) have to be to meet this constraint?\n",
    "How many possibilities would we have to explore? "
   ]
  },
  {
   "cell_type": "code",
   "execution_count": 84,
   "metadata": {},
   "outputs": [
    {
     "name": "stdout",
     "output_type": "stream",
     "text": [
      "The upper bound of x_0 is 87\n",
      "The upper bound of x_1 is 92\n",
      "The upper bound of x_2 is 99\n",
      "The upper bound of x_3 is 99\n",
      "The upper bound of x_4 is 106\n",
      "The upper bound of x_5 is 106\n",
      "The upper bound of x_6 is 117\n",
      "The upper bound of x_7 is 185\n",
      "The upper bound of x_8 is 262\n",
      "The upper bound of x_9 is 262\n",
      "\n",
      "We'd have to explore 1309632284192829030720 possibilities in total.\n"
     ]
    }
   ],
   "source": [
    "upper_bounds = []\n",
    "product = 1\n",
    "\n",
    "for i in range(10):\n",
    "    val = floor(sqrt(constraint_value / const_coeff[i]))\n",
    "    product *= val\n",
    "    upper_bounds.append(val)\n",
    "\n",
    "for _, val in enumerate(upper_bounds):\n",
    "    print(f\"The upper bound of x_{_} is {val}\")\n",
    "print(f\"\\nWe'd have to explore {product} possibilities in total.\")"
   ]
  },
  {
   "cell_type": "markdown",
   "metadata": {},
   "source": [
    "That's too many possibilities. We're going to use branch and bound to try and do better."
   ]
  },
  {
   "cell_type": "code",
   "execution_count": 85,
   "metadata": {},
   "outputs": [],
   "source": [
    "# we already have the list of upper bounds\n",
    "# we need the lower bounds\n",
    "def calculate_u(root, alpha, beta):\n",
    "    u = sum([(a ** 2 / b) for a, b in zip(alpha, beta)])\n",
    "    return sqrt(u) / (2 * root)\n",
    "\n",
    "def coeff(u, found_values=[]):\n",
    "    c = [(i / (2 * j * u)) for i, j in zip(org_coeff[:10-len(found_values)], const_coeff[:10-len(found_values)])]\n",
    "    return c\n",
    "\n",
    "def sol_val(x):\n",
    "    return matmul(org_coeff, x)\n",
    "\n",
    "lower_bounds = []\n",
    "\n",
    "u = calculate_u(sqrt(constraint_value), org_coeff, const_coeff)\n",
    "x_values = [int(i) for i in coeff(u)]\n",
    "lower_bounds = sol_val(x_values)"
   ]
  },
  {
   "cell_type": "code",
   "execution_count": 86,
   "metadata": {},
   "outputs": [],
   "source": [
    "def actual_lb(x):\n",
    "    curr_r_val = constraint_value - sum([(i * j * j) for i, j in zip(const_coeff[::-1], x)])\n",
    "    \n",
    "    if curr_r_val < 0:\n",
    "        return 0\n",
    "    elif curr_r_val == 0:\n",
    "        return sol_val([0] * (10 - len(x)) + x)\n",
    "    \n",
    "    u = calculate_u(sqrt(curr_r_val), org_coeff[:10-len(x)], const_coeff[:10-len(x)])\n",
    "    x_values = coeff(u, x)\n",
    "    return sol_val(x_values + x[::-1])"
   ]
  },
  {
   "cell_type": "code",
   "execution_count": 87,
   "metadata": {},
   "outputs": [
    {
     "ename": "TypeError",
     "evalue": "'int' object is not callable",
     "output_type": "error",
     "traceback": [
      "\u001b[1;31m---------------------------------------------------------------------------\u001b[0m",
      "\u001b[1;31mTypeError\u001b[0m                                 Traceback (most recent call last)",
      "Cell \u001b[1;32mIn[87], line 33\u001b[0m\n\u001b[0;32m      2\u001b[0m solution \u001b[38;5;241m=\u001b[39m []\n\u001b[0;32m      4\u001b[0m \u001b[38;5;66;03m# for x10 in range(upper_bounds[9], -1, -1):\u001b[39;00m\n\u001b[0;32m      5\u001b[0m \u001b[38;5;66;03m#   if actual_lb(x=[x10]) >= lower_bounds:\u001b[39;00m\n\u001b[0;32m      6\u001b[0m \u001b[38;5;66;03m#       for x9 in range(upper_bounds[8], -1, -1):\u001b[39;00m\n\u001b[1;32m   (...)\u001b[0m\n\u001b[0;32m     30\u001b[0m \u001b[38;5;66;03m#                                                               solution.append(x)\u001b[39;00m\n\u001b[0;32m     31\u001b[0m \u001b[38;5;66;03m#                                                             count += 1\u001b[39;00m\n\u001b[1;32m---> 33\u001b[0m variable_assignments \u001b[38;5;241m=\u001b[39m \u001b[43mproduct\u001b[49m\u001b[43m(\u001b[49m\u001b[38;5;241;43m*\u001b[39;49m\u001b[43m(\u001b[49m\u001b[38;5;28;43mrange\u001b[39;49m\u001b[43m(\u001b[49m\u001b[43mupper_bounds\u001b[49m\u001b[43m[\u001b[49m\u001b[43mi\u001b[49m\u001b[43m]\u001b[49m\u001b[43m,\u001b[49m\u001b[43m \u001b[49m\u001b[38;5;241;43m-\u001b[39;49m\u001b[38;5;241;43m1\u001b[39;49m\u001b[43m,\u001b[49m\u001b[43m \u001b[49m\u001b[38;5;241;43m-\u001b[39;49m\u001b[38;5;241;43m1\u001b[39;49m\u001b[43m)\u001b[49m\u001b[43m \u001b[49m\u001b[38;5;28;43;01mfor\u001b[39;49;00m\u001b[43m \u001b[49m\u001b[43mi\u001b[49m\u001b[43m \u001b[49m\u001b[38;5;129;43;01min\u001b[39;49;00m\u001b[43m \u001b[49m\u001b[38;5;28;43mrange\u001b[39;49m\u001b[43m(\u001b[49m\u001b[38;5;28;43mlen\u001b[39;49m\u001b[43m(\u001b[49m\u001b[43mupper_bounds\u001b[49m\u001b[43m)\u001b[49m\u001b[43m)\u001b[49m\u001b[43m)\u001b[49m\u001b[43m)\u001b[49m\n\u001b[0;32m     35\u001b[0m \u001b[38;5;28;01mfor\u001b[39;00m assignment \u001b[38;5;129;01min\u001b[39;00m variable_assignments:\n\u001b[0;32m     36\u001b[0m     \u001b[38;5;28;01mif\u001b[39;00m actual_lb(assignment) \u001b[38;5;241m>\u001b[39m\u001b[38;5;241m=\u001b[39m lower_bound:\n",
      "\u001b[1;31mTypeError\u001b[0m: 'int' object is not callable"
     ]
    }
   ],
   "source": [
    "count = 0\n",
    "solution = []\n",
    "\n",
    "for x10 in range(upper_bounds[9], -1, -1):\n",
    "  if actual_lb(x=[x10]) >= lower_bounds:\n",
    "      for x9 in range(upper_bounds[8], -1, -1):\n",
    "        if actual_lb(x=[x10,x9]) >= lower_bounds:\n",
    "            for x8 in range(upper_bounds[7], -1, -1):\n",
    "              if actual_lb(x=[x10,x9,x8]) >= lower_bounds:\n",
    "                  for x7 in range(upper_bounds[6], -1, -1):\n",
    "                    if actual_lb(x=[x10,x9,x8,x7]) >= lower_bounds:      \n",
    "                        for x6 in range(upper_bounds[5], -1, -1):\n",
    "                          if actual_lb(x=[x10,x9,x8,x7,x6]) >= lower_bounds:                         \n",
    "                              for x5 in range(upper_bounds[4], -1, -1):\n",
    "                                if actual_lb(x=[x10,x9,x8,x7,x6,x5]) >= lower_bounds:                                \n",
    "                                    for x4 in range(upper_bounds[3], -1, -1):\n",
    "                                      if actual_lb(x=[x10, x9, x8, x7, x6, x5, x4]) >= lower_bounds:                                     \n",
    "                                          for x3 in range(upper_bounds[2], -1, -1):\n",
    "                                            if actual_lb(x=[x10,x9,x8,x7,x6,x5, x4, x3]) >= lower_bounds:                                              \n",
    "                                                for x2 in range(upper_bounds[1], -1, -1):\n",
    "                                                  if actual_lb(x=[x10,x9,x8,x7,x6,x5, x4, x3, x2]) >=lower_bounds:                                                   \n",
    "                                                      for x1 in range(upper_bounds[0], -1, -1):\n",
    "                                                        if actual_lb(x=[x10,x9,x8,x7,x6, x5, x4, x3, x2,x1]) >= lower_bounds:                                                         \n",
    "                                                            x = [x1, x2, x3, x4, x5,x6,x7,x8,x9,x10] \n",
    "                                                            if sol_val(x) >lower_bounds: \n",
    "                                                              lower_bounds = sol_val(x) \n",
    "                                                              solution.clear() \n",
    "                                                              solution.append(x)\n",
    "                                                            elif sol_val(x) == lower_bounds:                                \n",
    "                                                              solution.append(x)\n",
    "                                                            count += 1\n",
    "\n",
    "print(f\"Maximum value: {lower_bounds}\")\n",
    "print(f\"Complete variable assignments visited: {count}\")\n",
    "print(f\"Optimum: {solution}\")"
   ]
  },
  {
   "cell_type": "code",
   "execution_count": null,
   "metadata": {},
   "outputs": [],
   "source": []
  }
 ],
 "metadata": {
  "kernelspec": {
   "display_name": "ai",
   "language": "python",
   "name": "python3"
  },
  "language_info": {
   "codemirror_mode": {
    "name": "ipython",
    "version": 3
   },
   "file_extension": ".py",
   "mimetype": "text/x-python",
   "name": "python",
   "nbconvert_exporter": "python",
   "pygments_lexer": "ipython3",
   "version": "3.10.7"
  }
 },
 "nbformat": 4,
 "nbformat_minor": 2
}
